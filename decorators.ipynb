{
 "cells": [
  {
   "cell_type": "code",
   "execution_count": 1,
   "id": "6e95d13d",
   "metadata": {},
   "outputs": [
    {
     "name": "stdout",
     "output_type": "stream",
     "text": [
      "f took 0.40596914291381836\n"
     ]
    }
   ],
   "source": [
    "# Define a function and measure its execution time\n",
    "\n",
    "# Specific import\n",
    "from time import sleep, time\n",
    "\n",
    "def f():\n",
    "    sleep(0.4)\n",
    "\n",
    "# Get the current time\n",
    "t = time()\n",
    "f()\n",
    "print(\"f took\", time() - t)\n"
   ]
  },
  {
   "cell_type": "code",
   "execution_count": 3,
   "id": "5a5ca0c2",
   "metadata": {},
   "outputs": [
    {
     "name": "stdout",
     "output_type": "stream",
     "text": [
      "g took 0.20026445388793945\n"
     ]
    }
   ],
   "source": [
    "# Create another function\n",
    "def g():\n",
    "    sleep(0.2)\n",
    "\n",
    "t = time()\n",
    "g()\n",
    "print(\"g took\", time() - t)\n",
    "\n"
   ]
  },
  {
   "cell_type": "code",
   "execution_count": null,
   "id": "d8e082fb",
   "metadata": {},
   "outputs": [
    {
     "name": "stdout",
     "output_type": "stream",
     "text": [
      "f took: 0.4000833034515381\n",
      "g took: 0.2000901699066162\n"
     ]
    }
   ],
   "source": [
    "# Let's optimize the measurement\n",
    "def measure(func):\n",
    "    t = time() # get current time\n",
    "    func() # call the received function\n",
    "    print(func.__name__, \"took:\", time() - t)\n",
    "\n",
    "\n",
    "measure(f)\n",
    "measure(g)\n"
   ]
  },
  {
   "cell_type": "code",
   "execution_count": 6,
   "id": "3d53b801",
   "metadata": {},
   "outputs": [
    {
     "name": "stdout",
     "output_type": "stream",
     "text": [
      "f2 took: 0.10008955001831055\n",
      "f2 took: 0.5001170635223389\n",
      "f2 took: 0.7001016139984131\n"
     ]
    }
   ],
   "source": [
    "def f2(sleep_time = 0.1):\n",
    "    sleep(sleep_time)\n",
    "\n",
    "def measure(func, *args, **kwargs):\n",
    "    t = time() # get current time\n",
    "    func(*args, **kwargs) # call the received function\n",
    "    print(func.__name__, \"took:\", time() - t)\n",
    "\n",
    "measure(f2)\n",
    "measure(f2, 0.5)\n",
    "measure(f2, sleep_time = 0.7)"
   ]
  },
  {
   "cell_type": "code",
   "execution_count": 7,
   "id": "924ade1d",
   "metadata": {},
   "outputs": [
    {
     "name": "stdout",
     "output_type": "stream",
     "text": [
      "f2 took: 1.0001044273376465\n"
     ]
    }
   ],
   "source": [
    "# What if I want to built in measurement into a function\n",
    "\n",
    "def measure(func): # a decorator\n",
    "    def wrapper(*args, **kwargs):\n",
    "        t = time() # get current time\n",
    "        func(*args, **kwargs) # call the received function\n",
    "        print(func.__name__, \"took:\", time() - t)\n",
    "    return wrapper\n",
    "\n",
    "\n",
    "@measure\n",
    "def f2(sleep_time = 0.1):\n",
    "    sleep(sleep_time)\n",
    "\n",
    "\n",
    "f2(1)"
   ]
  },
  {
   "cell_type": "code",
   "execution_count": null,
   "id": "f756a074",
   "metadata": {},
   "outputs": [],
   "source": []
  }
 ],
 "metadata": {
  "kernelspec": {
   "display_name": "Python 3",
   "language": "python",
   "name": "python3"
  },
  "language_info": {
   "codemirror_mode": {
    "name": "ipython",
    "version": 3
   },
   "file_extension": ".py",
   "mimetype": "text/x-python",
   "name": "python",
   "nbconvert_exporter": "python",
   "pygments_lexer": "ipython3",
   "version": "3.12.1"
  }
 },
 "nbformat": 4,
 "nbformat_minor": 5
}
