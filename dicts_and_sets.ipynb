{
 "cells": [
  {
   "cell_type": "code",
   "execution_count": 2,
   "id": "72e8d150",
   "metadata": {},
   "outputs": [
    {
     "name": "stdout",
     "output_type": "stream",
     "text": [
      "{'name': 'Jack', 'age': 25, 'city': 'Lakeland'}\n",
      "{'name': 'Anna', 'age': 19, 'city': 'Orlando'}\n"
     ]
    }
   ],
   "source": [
    "# Create a dictionary\n",
    "my_dict = {\"name\": \"Jack\", \"age\": 25, \"city\": \"Lakeland\"}\n",
    "\n",
    "my_dict2 = dict(name = \"Anna\", age = 19, city = \"Orlando\")\n",
    "\n",
    "print(my_dict)\n",
    "print(my_dict2)"
   ]
  },
  {
   "cell_type": "code",
   "execution_count": 2,
   "id": "9104e62b",
   "metadata": {},
   "outputs": [
    {
     "name": "stdout",
     "output_type": "stream",
     "text": [
      "Jack\n",
      "{'name': 'Jack', 'age': 20, 'city': 'Lakeland', 'email': 'jack@floridapoly.edu'}\n"
     ]
    }
   ],
   "source": [
    "my_dict = {\"name\": \"Jack\", \"age\": 25, \"city\": \"Lakeland\"}\n",
    "# Access a value:\n",
    "print(my_dict[\"name\"])\n",
    "\n",
    "# Modify the value\n",
    "my_dict[\"age\"] = 20\n",
    "\n",
    "# Add a new key-value pair\n",
    "my_dict[\"email\"] = \"jack@floridapoly.edu\"\n",
    "\n",
    "print(my_dict)"
   ]
  },
  {
   "cell_type": "code",
   "execution_count": null,
   "id": "23494c09",
   "metadata": {},
   "outputs": [
    {
     "name": "stdout",
     "output_type": "stream",
     "text": [
      "not found\n"
     ]
    }
   ],
   "source": [
    "# print(my_dict[\"gpa\"]) # generates an error\n",
    "\n",
    "# get method\n",
    "print(my_dict.get(\"gpa\", \"not found\")) # return \"not found\" if key doesn't exist"
   ]
  },
  {
   "cell_type": "code",
   "execution_count": 7,
   "id": "78dae7fe",
   "metadata": {},
   "outputs": [
    {
     "name": "stdout",
     "output_type": "stream",
     "text": [
      "dict_keys(['name', 'age', 'city', 'email'])\n",
      "dict_values(['Jack', 20, 'Lakeland', 'jack@floridapoly.edu'])\n",
      "dict_items([('name', 'Jack'), ('age', 20), ('city', 'Lakeland'), ('email', 'jack@floridapoly.edu')])\n"
     ]
    }
   ],
   "source": [
    "# keys - returns all the keys\n",
    "print(my_dict.keys())\n",
    "\n",
    "# values - returns all the values\n",
    "print(my_dict.values())\n",
    "\n",
    "# items - returns key-value pairs\n",
    "print(my_dict.items())\n",
    "\n"
   ]
  },
  {
   "cell_type": "code",
   "execution_count": 9,
   "id": "ceb476ea",
   "metadata": {},
   "outputs": [
    {
     "name": "stdout",
     "output_type": "stream",
     "text": [
      "name Anna\n",
      "age 19\n",
      "city Orlando\n",
      "name -> Jack\n",
      "age -> 20\n",
      "city -> Lakeland\n",
      "email -> jack@floridapoly.edu\n"
     ]
    }
   ],
   "source": [
    "# iteration over dictionaries\n",
    "info = dict(name = \"Anna\", age = 19, city = \"Orlando\")\n",
    "for key in info:\n",
    "    print(key, info[key])\n",
    "\n",
    "for key, value in my_dict.items():\n",
    "    print(f\"{key} -> {value}\")\n"
   ]
  },
  {
   "cell_type": "code",
   "execution_count": 10,
   "id": "bb0d28e8",
   "metadata": {},
   "outputs": [
    {
     "name": "stdout",
     "output_type": "stream",
     "text": [
      "{'apple': 3, 'banana': 1, 'orange': 2}\n"
     ]
    }
   ],
   "source": [
    "# Count the frequency of words\n",
    "msg = \"apple banana orange apple orange apple\"\n",
    "words = msg.split(\" \")\n",
    "# create a dictionary\n",
    "word_count = {}\n",
    "for word in words:\n",
    "    word_count[word] = word_count.get(word, 0) + 1\n",
    "\n",
    "print(word_count)"
   ]
  },
  {
   "cell_type": "code",
   "execution_count": 12,
   "id": "d703e5c2",
   "metadata": {},
   "outputs": [
    {
     "name": "stdout",
     "output_type": "stream",
     "text": [
      "{'green', 'red', 'blue'}\n",
      "{1, 2, 3, 4}\n",
      "set()\n"
     ]
    }
   ],
   "source": [
    "# Create a set \n",
    "# Set is a collection of unique elements\n",
    "\n",
    "colors = {\"red\", \"blue\", \"green\"}\n",
    "\n",
    "numbers = set([1, 2, 3, 4, 3])\n",
    "\n",
    "#empty set\n",
    "empty_set = set()\n",
    "\n",
    "print(colors)\n",
    "print(numbers)\n",
    "print(empty_set)"
   ]
  },
  {
   "cell_type": "code",
   "execution_count": 1,
   "id": "95c5d1f2",
   "metadata": {},
   "outputs": [
    {
     "name": "stdout",
     "output_type": "stream",
     "text": [
      "{1, 2, 3, 4, 5, 6, 7}\n",
      "{3, 4, 5}\n",
      "{1, 2}\n",
      "{6, 7}\n",
      "{1, 2, 6, 7}\n"
     ]
    }
   ],
   "source": [
    "\n",
    "set1 = {1, 2, 3, 4, 5}\n",
    "set2 = {3, 4, 5, 6, 7}\n",
    "\n",
    "# Combine elements from 2 sets (union)\n",
    "union_set = set1 | set2\n",
    "\n",
    "# Intersection of two sets \n",
    "intersection_set = set1 & set2\n",
    "\n",
    "# Difference of two sets\n",
    "difference_set = set1 - set2\n",
    "difference_set2 = set2 - set1\n",
    "# Symmetric difference\n",
    "difference_set3 = set2 ^ set1\n",
    "\n",
    "print(union_set)\n",
    "print(intersection_set)\n",
    "print(difference_set)\n",
    "print(difference_set2)\n",
    "print(difference_set3)"
   ]
  },
  {
   "cell_type": "code",
   "execution_count": null,
   "id": "99986e22",
   "metadata": {},
   "outputs": [
    {
     "name": "stdout",
     "output_type": "stream",
     "text": [
      "{'green', 'red', 'purple'}\n"
     ]
    }
   ],
   "source": [
    "colors = {\"red\", \"blue\", \"green\"}\n",
    "\n",
    "colors.add(\"purple\")\n",
    "colors.remove(\"blue\") # generates an error if blue is not in colors\n",
    "colors.discard(\"blue\") # no error if not found\n",
    "\n",
    "print(colors)\n"
   ]
  },
  {
   "cell_type": "code",
   "execution_count": null,
   "id": "b40fcd9e",
   "metadata": {},
   "outputs": [],
   "source": []
  }
 ],
 "metadata": {
  "kernelspec": {
   "display_name": "Python 3",
   "language": "python",
   "name": "python3"
  },
  "language_info": {
   "codemirror_mode": {
    "name": "ipython",
    "version": 3
   },
   "file_extension": ".py",
   "mimetype": "text/x-python",
   "name": "python",
   "nbconvert_exporter": "python",
   "pygments_lexer": "ipython3",
   "version": "3.12.1"
  }
 },
 "nbformat": 4,
 "nbformat_minor": 5
}
