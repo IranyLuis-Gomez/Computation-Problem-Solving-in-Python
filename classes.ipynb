{
 "cells": [
  {
   "cell_type": "code",
   "execution_count": null,
   "id": "9a460a47",
   "metadata": {},
   "outputs": [
    {
     "name": "stdout",
     "output_type": "stream",
     "text": [
      "Woof! Woof!\n"
     ]
    }
   ],
   "source": [
    "# Dog class\n",
    "\n",
    "# self refers to an instance of the class\n",
    "class Dog:\n",
    "    def bark(self): #instance method\n",
    "        return \"Woof! Woof!\"\n",
    "    \n",
    "# Create an instance of Dog\n",
    "my_dog = Dog()\n",
    "# Call bark method\n",
    "print(my_dog.bark())"
   ]
  },
  {
   "cell_type": "code",
   "execution_count": 4,
   "id": "29cbf479",
   "metadata": {},
   "outputs": [
    {
     "name": "stdout",
     "output_type": "stream",
     "text": [
      "100\n"
     ]
    }
   ],
   "source": [
    "class Square:\n",
    "    side = 8\n",
    "    # Create an instance method area\n",
    "    def area(self):\n",
    "        return self.side**2\n",
    "\n",
    "\n",
    "# Create an instance of Square\n",
    "s1 = Square()\n",
    "s1.side = 10\n",
    "# Print the area\n",
    "print(s1.area())"
   ]
  },
  {
   "cell_type": "code",
   "execution_count": null,
   "id": "2eb769fc",
   "metadata": {},
   "outputs": [
    {
     "ename": "TypeError",
     "evalue": "Cat.__init__() missing 1 required positional argument: 'name'",
     "output_type": "error",
     "traceback": [
      "\u001b[31m---------------------------------------------------------------------------\u001b[39m",
      "\u001b[31mTypeError\u001b[39m                                 Traceback (most recent call last)",
      "\u001b[36mCell\u001b[39m\u001b[36m \u001b[39m\u001b[32mIn[6]\u001b[39m\u001b[32m, line 7\u001b[39m\n\u001b[32m      4\u001b[39m     \u001b[38;5;28;01mdef\u001b[39;00m\u001b[38;5;250m \u001b[39m\u001b[34m__init__\u001b[39m(\u001b[38;5;28mself\u001b[39m, name):\n\u001b[32m      5\u001b[39m         \u001b[38;5;28mself\u001b[39m.name = name\n\u001b[32m----> \u001b[39m\u001b[32m7\u001b[39m leopold = \u001b[43mCat\u001b[49m\u001b[43m(\u001b[49m\u001b[43m)\u001b[49m\n\u001b[32m      8\u001b[39m \u001b[38;5;28mprint\u001b[39m(leopold.name)\n",
      "\u001b[31mTypeError\u001b[39m: Cat.__init__() missing 1 required positional argument: 'name'"
     ]
    }
   ],
   "source": [
    "# __init__ method (constructor)\n",
    "# use it to initialize the properties of a new object\n",
    "class Cat:\n",
    "    def __init__(self, name):\n",
    "        self.name = name\n",
    "\n",
    "leopold = Cat(\"Leopold\")\n",
    "print(leopold.name)"
   ]
  },
  {
   "cell_type": "code",
   "execution_count": null,
   "id": "f4c3aa70",
   "metadata": {},
   "outputs": [],
   "source": []
  }
 ],
 "metadata": {
  "kernelspec": {
   "display_name": "Python 3",
   "language": "python",
   "name": "python3"
  },
  "language_info": {
   "codemirror_mode": {
    "name": "ipython",
    "version": 3
   },
   "file_extension": ".py",
   "mimetype": "text/x-python",
   "name": "python",
   "nbconvert_exporter": "python",
   "pygments_lexer": "ipython3",
   "version": "3.12.1"
  }
 },
 "nbformat": 4,
 "nbformat_minor": 5
}
