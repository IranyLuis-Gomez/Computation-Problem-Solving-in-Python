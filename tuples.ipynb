{
 "cells": [
  {
   "cell_type": "code",
   "execution_count": 5,
   "id": "7d5aaa33",
   "metadata": {},
   "outputs": [
    {
     "name": "stdout",
     "output_type": "stream",
     "text": [
      "1\n",
      "True\n",
      "False\n",
      "1 2 Hello 3.4\n",
      "hello\n"
     ]
    }
   ],
   "source": [
    "# Create a tuple\n",
    "\n",
    "my_tuple = (1, 2, \"Hello\", 3.4)\n",
    "\n",
    "print(my_tuple[0])\n",
    "\n",
    "# Cannot modify the values\n",
    "# my_tuple[1] = 9\n",
    "\n",
    "# Membership Testing\n",
    "print(1 in my_tuple)\n",
    "print(5 in my_tuple)\n",
    "\n",
    "# Tuple Unpacking\n",
    "a, b, c, d = my_tuple\n",
    "print(a,b,c,d)\n",
    "print(c.lower())\n"
   ]
  },
  {
   "cell_type": "code",
   "execution_count": 6,
   "id": "7002e476",
   "metadata": {},
   "outputs": [
    {
     "name": "stdout",
     "output_type": "stream",
     "text": [
      "2\n"
     ]
    }
   ],
   "source": [
    "# Nested Tuple\n",
    "points = (\n",
    "    (1, 2, 3),\n",
    "    (4, 5, 6),\n",
    "    (7, 8, 9)\n",
    ")\n",
    "\n",
    "print(points[0][1])"
   ]
  },
  {
   "cell_type": "code",
   "execution_count": null,
   "id": "9775883a",
   "metadata": {},
   "outputs": [],
   "source": []
  }
 ],
 "metadata": {
  "kernelspec": {
   "display_name": "Python 3",
   "language": "python",
   "name": "python3"
  },
  "language_info": {
   "codemirror_mode": {
    "name": "ipython",
    "version": 3
   },
   "file_extension": ".py",
   "mimetype": "text/x-python",
   "name": "python",
   "nbconvert_exporter": "python",
   "pygments_lexer": "ipython3",
   "version": "3.12.1"
  }
 },
 "nbformat": 4,
 "nbformat_minor": 5
}
